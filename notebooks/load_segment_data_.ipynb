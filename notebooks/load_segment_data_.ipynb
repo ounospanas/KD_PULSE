{
  "cells": [
    {
      "cell_type": "markdown",
      "metadata": {
        "id": "view-in-github",
        "colab_type": "text"
      },
      "source": [
        "<a href=\"https://colab.research.google.com/github/ounospanas/KD_PULSE/blob/main/notebooks/load_segment_data_.ipynb\" target=\"_parent\"><img src=\"https://colab.research.google.com/assets/colab-badge.svg\" alt=\"Open In Colab\"/></a>"
      ]
    },
    {
      "cell_type": "markdown",
      "source": [
        "Download ppg-dalia"
      ],
      "metadata": {
        "id": "es8eZCfIsCD-"
      }
    },
    {
      "cell_type": "code",
      "source": [
        "!wget https://archive.ics.uci.edu/static/public/495/ppg+dalia.zip\n",
        "!unzip ppg+dalia.zip"
      ],
      "metadata": {
        "colab": {
          "base_uri": "https://localhost:8080/"
        },
        "id": "5k9J5weqrHbe",
        "outputId": "c084413c-618c-4d0e-c6ef-ef4d31d47361"
      },
      "execution_count": 2,
      "outputs": [
        {
          "output_type": "stream",
          "name": "stdout",
          "text": [
            "--2024-01-24 08:53:30--  https://archive.ics.uci.edu/static/public/495/ppg+dalia.zip\n",
            "Resolving archive.ics.uci.edu (archive.ics.uci.edu)... 128.195.10.252\n",
            "Connecting to archive.ics.uci.edu (archive.ics.uci.edu)|128.195.10.252|:443... connected.\n",
            "HTTP request sent, awaiting response... 200 OK\n",
            "Length: unspecified\n",
            "Saving to: ‘ppg+dalia.zip’\n",
            "\n",
            "ppg+dalia.zip           [          <=>       ]   2.67G  46.5MB/s    in 60s     \n",
            "\n",
            "2024-01-24 08:54:30 (45.7 MB/s) - ‘ppg+dalia.zip’ saved [2865111320]\n",
            "\n"
          ]
        }
      ]
    },
    {
      "cell_type": "code",
      "source": [
        "!unzip data.zip"
      ],
      "metadata": {
        "colab": {
          "base_uri": "https://localhost:8080/"
        },
        "id": "DDWmqLiPrsqP",
        "outputId": "488a13a0-d258-4bc1-a6ac-2840185550f7"
      },
      "execution_count": 6,
      "outputs": [
        {
          "output_type": "stream",
          "name": "stdout",
          "text": [
            "Archive:  data.zip\n",
            "   creating: PPG_FieldStudy/\n",
            "  inflating: PPG_FieldStudy/PPG_FieldStudy_readme.pdf  \n",
            "   creating: PPG_FieldStudy/S1/\n",
            "   creating: PPG_FieldStudy/S10/\n",
            "  inflating: PPG_FieldStudy/S10/S10.pkl  \n",
            "  inflating: PPG_FieldStudy/S10/S10_activity.csv  \n",
            "  inflating: PPG_FieldStudy/S10/S10_E4.zip  \n",
            "  inflating: PPG_FieldStudy/S10/S10_quest.csv  \n",
            "  inflating: PPG_FieldStudy/S10/S10_RespiBAN.h5  \n",
            "   creating: PPG_FieldStudy/S11/\n",
            "  inflating: PPG_FieldStudy/S11/S11.pkl  \n",
            "  inflating: PPG_FieldStudy/S11/S11_activity.csv  \n",
            "  inflating: PPG_FieldStudy/S11/S11_E4.zip  \n",
            "  inflating: PPG_FieldStudy/S11/S11_quest.csv  \n",
            "  inflating: PPG_FieldStudy/S11/S11_RespiBAN.h5  \n",
            "   creating: PPG_FieldStudy/S12/\n",
            "  inflating: PPG_FieldStudy/S12/S12.pkl  \n",
            "  inflating: PPG_FieldStudy/S12/S12_activity.csv  \n",
            "  inflating: PPG_FieldStudy/S12/S12_E4.zip  \n",
            "  inflating: PPG_FieldStudy/S12/S12_quest.csv  \n",
            "  inflating: PPG_FieldStudy/S12/S12_RespiBAN.h5  \n",
            "   creating: PPG_FieldStudy/S13/\n",
            "  inflating: PPG_FieldStudy/S13/S13.pkl  \n",
            "  inflating: PPG_FieldStudy/S13/S13_activity.csv  \n",
            "  inflating: PPG_FieldStudy/S13/S13_E4.zip  \n",
            "  inflating: PPG_FieldStudy/S13/S13_quest.csv  \n",
            "  inflating: PPG_FieldStudy/S13/S13_RespiBAN.h5  \n",
            "   creating: PPG_FieldStudy/S14/\n",
            "  inflating: PPG_FieldStudy/S14/S14.pkl  \n",
            "  inflating: PPG_FieldStudy/S14/S14_activity.csv  \n",
            "  inflating: PPG_FieldStudy/S14/S14_E4.zip  \n",
            "  inflating: PPG_FieldStudy/S14/S14_quest.csv  \n",
            "  inflating: PPG_FieldStudy/S14/S14_RespiBAN.h5  \n",
            "   creating: PPG_FieldStudy/S15/\n",
            "  inflating: PPG_FieldStudy/S15/S15.pkl  \n",
            "  inflating: PPG_FieldStudy/S15/S15_activity.csv  \n",
            "  inflating: PPG_FieldStudy/S15/S15_E4.zip  \n",
            "  inflating: PPG_FieldStudy/S15/S15_quest.csv  \n",
            "  inflating: PPG_FieldStudy/S15/S15_RespiBAN.h5  \n",
            "  inflating: PPG_FieldStudy/S1/S1.pkl  \n",
            "  inflating: PPG_FieldStudy/S1/S1_activity.csv  \n",
            "  inflating: PPG_FieldStudy/S1/S1_E4.zip  \n",
            "  inflating: PPG_FieldStudy/S1/S1_quest.csv  \n",
            "  inflating: PPG_FieldStudy/S1/S1_RespiBAN.h5  \n",
            "   creating: PPG_FieldStudy/S2/\n",
            "  inflating: PPG_FieldStudy/S2/S2.pkl  \n",
            "  inflating: PPG_FieldStudy/S2/S2_activity.csv  \n",
            "  inflating: PPG_FieldStudy/S2/S2_E4.zip  \n",
            "  inflating: PPG_FieldStudy/S2/S2_quest.csv  \n",
            "  inflating: PPG_FieldStudy/S2/S2_RespiBAN.h5  \n",
            "   creating: PPG_FieldStudy/S3/\n",
            "  inflating: PPG_FieldStudy/S3/S3.pkl  \n",
            "  inflating: PPG_FieldStudy/S3/S3_activity.csv  \n",
            "  inflating: PPG_FieldStudy/S3/S3_E4.zip  \n",
            "  inflating: PPG_FieldStudy/S3/S3_quest.csv  \n",
            "  inflating: PPG_FieldStudy/S3/S3_RespiBAN.h5  \n",
            "   creating: PPG_FieldStudy/S4/\n",
            "  inflating: PPG_FieldStudy/S4/S4.pkl  \n",
            "  inflating: PPG_FieldStudy/S4/S4_activity.csv  \n",
            "  inflating: PPG_FieldStudy/S4/S4_E4.zip  \n",
            "  inflating: PPG_FieldStudy/S4/S4_quest.csv  \n",
            "  inflating: PPG_FieldStudy/S4/S4_RespiBAN.h5  \n",
            "   creating: PPG_FieldStudy/S5/\n",
            "  inflating: PPG_FieldStudy/S5/S5.pkl  \n",
            "  inflating: PPG_FieldStudy/S5/S5_activity.csv  \n",
            "  inflating: PPG_FieldStudy/S5/S5_E4.zip  \n",
            "  inflating: PPG_FieldStudy/S5/S5_quest.csv  \n",
            "  inflating: PPG_FieldStudy/S5/S5_RespiBAN.h5  \n",
            "   creating: PPG_FieldStudy/S6/\n",
            "  inflating: PPG_FieldStudy/S6/S6.pkl  \n",
            "  inflating: PPG_FieldStudy/S6/S6_activity.csv  \n",
            "  inflating: PPG_FieldStudy/S6/S6_E4.zip  \n",
            "  inflating: PPG_FieldStudy/S6/S6_quest.csv  \n",
            "  inflating: PPG_FieldStudy/S6/S6_RespiBAN.h5  \n",
            "   creating: PPG_FieldStudy/S7/\n",
            "  inflating: PPG_FieldStudy/S7/S7.pkl  \n",
            "  inflating: PPG_FieldStudy/S7/S7_activity.csv  \n",
            "  inflating: PPG_FieldStudy/S7/S7_E4.zip  \n",
            "  inflating: PPG_FieldStudy/S7/S7_quest.csv  \n",
            "  inflating: PPG_FieldStudy/S7/S7_RespiBAN.h5  \n",
            "   creating: PPG_FieldStudy/S8/\n",
            "  inflating: PPG_FieldStudy/S8/S8.pkl  \n",
            "  inflating: PPG_FieldStudy/S8/S8_activity.csv  \n",
            "  inflating: PPG_FieldStudy/S8/S8_E4.zip  \n",
            "  inflating: PPG_FieldStudy/S8/S8_quest.csv  \n",
            "  inflating: PPG_FieldStudy/S8/S8_RespiBAN.h5  \n",
            "   creating: PPG_FieldStudy/S9/\n",
            "  inflating: PPG_FieldStudy/S9/S9.pkl  \n",
            "  inflating: PPG_FieldStudy/S9/S9_activity.csv  \n",
            "  inflating: PPG_FieldStudy/S9/S9_E4.zip  \n",
            "  inflating: PPG_FieldStudy/S9/S9_quest.csv  \n",
            "  inflating: PPG_FieldStudy/S9/S9_RespiBAN.h5  \n"
          ]
        }
      ]
    },
    {
      "cell_type": "code",
      "execution_count": 1,
      "metadata": {
        "id": "orhtuM1Tq9Ok"
      },
      "outputs": [],
      "source": [
        "import pickle\n",
        "import random\n",
        "import os\n",
        "import numpy as np\n",
        "from skimage.util.shape import view_as_windows\n",
        "from scipy.io import loadmat"
      ]
    },
    {
      "cell_type": "code",
      "execution_count": 7,
      "metadata": {
        "id": "bZRP7L_Fq9Oo"
      },
      "outputs": [],
      "source": [
        "cf = 'PPG_FieldStudy/'"
      ]
    },
    {
      "cell_type": "code",
      "execution_count": 8,
      "metadata": {
        "id": "1BjKjTquq9Op"
      },
      "outputs": [],
      "source": [
        "\"\"\"\n",
        "Reusing code from https://github.com/eml-eda/q-ppg\n",
        "\"\"\"\n",
        "def preprocessing(cf):\n",
        "    # Sampling frequency of acceleration data in PPG_Dalia dataset\n",
        "    # The sampling frequency of ppg data in PPG_Dalia dataset is fs_PPG_Dalia*2\n",
        "    fs_PPG_Dalia = 32\n",
        "    fs_eda_temp = 4\n",
        "    window = 8\n",
        "    move = 2\n",
        "\n",
        "    fs_activity = 4\n",
        "\n",
        "    Session = dict()\n",
        "    S = dict()\n",
        "    acc = dict()\n",
        "    ppg = dict()\n",
        "    activity = dict()\n",
        "    eda = dict()\n",
        "    temp = dict()\n",
        "\n",
        "\n",
        "    random.seed(20)\n",
        "\n",
        "    ground_truth = dict()\n",
        "\n",
        "    #val = dataset\n",
        "\n",
        "\n",
        "    numbers= list(range(1,16))\n",
        "    session_list=random.sample(numbers,len(numbers))\n",
        "    for j in session_list:\n",
        "        paz = j\n",
        "\n",
        "        with open(cf + 'S' + str(j) +'/S' + str(j) +'.pkl', 'rb') as f:\n",
        "            S[paz] = pickle.load(f, encoding='latin1')\n",
        "        ppg[paz] = S[paz]['signal']['wrist']['BVP'][::2]\n",
        "        acc[paz] = S[paz]['signal']['wrist']['ACC']\n",
        "        activity[paz] = S[paz]['activity']\n",
        "        ground_truth[paz] = S[paz]['label']\n",
        "        eda[j] = S[j]['signal']['wrist']['EDA']\n",
        "        temp[j] = S[j]['signal']['wrist']['TEMP']\n",
        "        print(\"I read all\", j)\n",
        "\n",
        "    sig = dict()\n",
        "    act_list = []\n",
        "    groups= []\n",
        "    sig_list = []\n",
        "    ground_truth_list = []\n",
        "    bio = dict()\n",
        "    bio_list = []\n",
        "\n",
        "\n",
        "    # Loop on keys of dictionary ground_truth\n",
        "    for k in ground_truth:\n",
        "        # Remeber to set the desired time window\n",
        "        bio[k] = np.concatenate((eda[k],temp[k]),axis=1)\n",
        "        bio[k]= np.moveaxis(view_as_windows(bio[k], (fs_eda_temp*window,2),int(fs_eda_temp*move))[:,0,:,:],1,2)\n",
        "        activity[k] = np.moveaxis(view_as_windows(activity[k], (4*8,1),4*2)[:,0,:,:],1,2)\n",
        "        activity[k] = activity[k][:,:,0]\n",
        "        sig[k] = np.concatenate((ppg[k],acc[k]),axis=1)\n",
        "        sig[k]= np.moveaxis(view_as_windows(sig[k], (fs_PPG_Dalia*8,4),fs_PPG_Dalia*2)[:,0,:,:],1,2)\n",
        "        groups.append(np.full(sig[k].shape[0],k))\n",
        "        bio_list.append(bio[k])\n",
        "        sig_list.append(sig[k])\n",
        "        act_list.append(activity[k])\n",
        "        ground_truth[k] = np.reshape(ground_truth[k], (ground_truth[k].shape[0],1))\n",
        "        ground_truth_list.append(ground_truth[k])\n",
        "        print('I finished',k)\n",
        "\n",
        "    #print(\"gruppo\",groups)\n",
        "    groups = np.hstack(groups)\n",
        "    X = np.vstack(sig_list)\n",
        "    y = np.reshape(np.vstack(ground_truth_list),(-1,1))\n",
        "    bio = np.vstack(bio_list)\n",
        "\n",
        "    act = np.vstack(act_list)\n",
        "\n",
        "    data = dict()\n",
        "    data['X'] = X\n",
        "    data['y'] = y\n",
        "    data['groups'] = groups\n",
        "    data['act'] = act\n",
        "    data['bio'] = bio\n",
        "\n",
        "    print(\"dimension data\",X.shape, \"dimesion labels\", y.shape,\"dimension groups\",groups.shape)\n",
        "\n",
        "    return X[:y.shape[0]], y, groups[:y.shape[0]], act[:y.shape[0]], bio[:y.shape[0]]"
      ]
    },
    {
      "cell_type": "code",
      "execution_count": 9,
      "metadata": {
        "colab": {
          "base_uri": "https://localhost:8080/"
        },
        "id": "Rkb7EGKEq9Oq",
        "outputId": "2a4e249a-40fd-4169-ecdf-d5fe8296fb54"
      },
      "outputs": [
        {
          "output_type": "stream",
          "name": "stdout",
          "text": [
            "I read all 15\n",
            "I read all 12\n",
            "I read all 11\n",
            "I read all 3\n",
            "I read all 5\n",
            "I read all 2\n",
            "I read all 6\n",
            "I read all 14\n",
            "I read all 1\n",
            "I read all 4\n",
            "I read all 9\n",
            "I read all 7\n",
            "I read all 13\n",
            "I read all 8\n",
            "I read all 10\n",
            "I finished 15\n",
            "I finished 12\n",
            "I finished 11\n",
            "I finished 3\n",
            "I finished 5\n",
            "I finished 2\n",
            "I finished 6\n",
            "I finished 14\n",
            "I finished 1\n",
            "I finished 4\n",
            "I finished 9\n",
            "I finished 7\n",
            "I finished 13\n",
            "I finished 8\n",
            "I finished 10\n",
            "dimension data (64697, 4, 256) dimesion labels (64697, 1) dimension groups (64697,)\n"
          ]
        }
      ],
      "source": [
        "data = preprocessing(cf)"
      ]
    },
    {
      "cell_type": "code",
      "execution_count": 10,
      "metadata": {
        "id": "X7erf3OIq9Os"
      },
      "outputs": [],
      "source": [
        "np.save('dalia_data.npy', data[0])\n",
        "np.save('dalia_y.npy', data[1])\n",
        "np.save('dalia_subs.npy', data[2])\n",
        "np.save('dalia_acts.npy', data[3])"
      ]
    },
    {
      "cell_type": "code",
      "execution_count": null,
      "metadata": {
        "id": "2Y1cZz5Dq9Os"
      },
      "outputs": [],
      "source": []
    }
  ],
  "metadata": {
    "kernelspec": {
      "display_name": "py3.9",
      "language": "python",
      "name": "py3.9"
    },
    "language_info": {
      "codemirror_mode": {
        "name": "ipython",
        "version": 3
      },
      "file_extension": ".py",
      "mimetype": "text/x-python",
      "name": "python",
      "nbconvert_exporter": "python",
      "pygments_lexer": "ipython3",
      "version": "3.9.9"
    },
    "colab": {
      "provenance": [],
      "include_colab_link": true
    }
  },
  "nbformat": 4,
  "nbformat_minor": 0
}